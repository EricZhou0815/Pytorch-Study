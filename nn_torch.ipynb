{
  "nbformat": 4,
  "nbformat_minor": 0,
  "metadata": {
    "colab": {
      "name": "nn-torch.ipynb",
      "provenance": [],
      "authorship_tag": "ABX9TyO8G9o44pISN95DuvkUix58",
      "include_colab_link": true
    },
    "kernelspec": {
      "name": "python3",
      "display_name": "Python 3"
    }
  },
  "cells": [
    {
      "cell_type": "markdown",
      "metadata": {
        "id": "view-in-github",
        "colab_type": "text"
      },
      "source": [
        "<a href=\"https://colab.research.google.com/github/EricZhou0815/Pytorch-Study/blob/master/nn_torch.ipynb\" target=\"_parent\"><img src=\"https://colab.research.google.com/assets/colab-badge.svg\" alt=\"Open In Colab\"/></a>"
      ]
    },
    {
      "cell_type": "code",
      "metadata": {
        "id": "kLA_jsn3a1dz",
        "colab_type": "code",
        "colab": {
          "base_uri": "https://localhost:8080/",
          "height": 34
        },
        "outputId": "0f0e4429-3cd3-4be5-e39d-3cf83e03a88b"
      },
      "source": [
        "import torch\n",
        "import torch.nn as nn\n",
        "import torch.nn.functional as F\n",
        "\n",
        "class Net(nn.Module):\n",
        "    def __init__(self):\n",
        "        super().__init__()\n",
        "        self.conv1=nn.Conv2d(1,32,5)\n",
        "        self.conv2=nn.Conv2d(32,64,5)\n",
        "        self.conv3=nn.Conv2d(64,128,5)\n",
        "\n",
        "        x=torch.randn(50,50).view(-1,1,50,50)\n",
        "        self._to_linear= None\n",
        "        self.convs(x)\n",
        "\n",
        "        self.fc1=nn.Linear(self._to_linear ,512)\n",
        "        self.fc2=nn.Linear(512,2)\n",
        "\n",
        "    def convs(self,x):\n",
        "        x=F.max_pool2d(F.relu(self.conv1(x)),(2,2))\n",
        "        x=F.max_pool2d(F.relu(self.conv2(x)),(2,2))\n",
        "        x=F.max_pool2d(F.relu(self.conv3(x)),(2,2))\n",
        "\n",
        "        print(x[0].shape)\n",
        "        if self._to_linear is None:\n",
        "            self._to_linear=x[0].shape[0]*x[0].shape[1]*x[0].shape[2]\n",
        "        return x\n",
        "\n",
        "    def forward(self,x):\n",
        "        x=self.convs(x)\n",
        "        x=x.view(-1,self._to_linear)\n",
        "        x=F.relu(self.fc1(x))\n",
        "        x=self.fc2(x)\n",
        "        return F.softmax(x,dim=1)\n",
        "\n",
        "net=Net()"
      ],
      "execution_count": 2,
      "outputs": [
        {
          "output_type": "stream",
          "text": [
            "torch.Size([128, 2, 2])\n"
          ],
          "name": "stdout"
        }
      ]
    }
  ]
}