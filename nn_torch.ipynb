{
  "nbformat": 4,
  "nbformat_minor": 0,
  "metadata": {
    "colab": {
      "name": "nn-torch.ipynb",
      "provenance": [],
      "collapsed_sections": [],
      "mount_file_id": "164JDp5fSLhc23tERKyfoQBIIQW2d0f3c",
      "authorship_tag": "ABX9TyN56tQuGl/UZxWihqLnsXwy",
      "include_colab_link": true
    },
    "kernelspec": {
      "name": "python3",
      "display_name": "Python 3"
    }
  },
  "cells": [
    {
      "cell_type": "markdown",
      "metadata": {
        "id": "view-in-github",
        "colab_type": "text"
      },
      "source": [
        "<a href=\"https://colab.research.google.com/github/EricZhou0815/Pytorch-Study/blob/master/nn_torch.ipynb\" target=\"_parent\"><img src=\"https://colab.research.google.com/assets/colab-badge.svg\" alt=\"Open In Colab\"/></a>"
      ]
    },
    {
      "cell_type": "code",
      "metadata": {
        "id": "oWEHEGFaWOsL",
        "colab_type": "code",
        "colab": {}
      },
      "source": [
        "from google.colab import drive\n",
        "drive.mount('/content/gdrive')"
      ],
      "execution_count": 0,
      "outputs": []
    },
    {
      "cell_type": "code",
      "metadata": {
        "id": "c9WIY9FO80wP",
        "colab_type": "code",
        "colab": {}
      },
      "source": [
        "import os\n",
        "import cv2\n",
        "import numpy as np\n",
        "from tqdm import tqdm\n",
        "\n",
        "REBUILD_DATA = True # set it to true the first time you build your data, then change to false\n",
        "\n",
        "# class to normalize the image data\n",
        "class DogsVSCats():\n",
        "    IMG_SIZE = 50\n",
        "    # local colab dir (google drive), need to upload dataset to google drive\n",
        "    URL=\"/content/drive/My Drive/Dataset/PetImages/\"\n",
        "    CATS = URL + \"Cat\"\n",
        "    DOGS = URL + \"Dog\"\n",
        "    LABELS = {CATS: 0, DOGS: 1}\n",
        "    training_data = []\n",
        "    cat_count = 0\n",
        "    dog_count = 0\n",
        "\n",
        "    def make_training_data(self):\n",
        "      for label in self.LABELS:\n",
        "        print(label)\n",
        "        for f in tqdm(os.listdir(label)):\n",
        "          try:\n",
        "            path = os.path.join(label,f)\n",
        "            img = cv2.imread(path,cv2.IMREAD_GRAYSCALE)\n",
        "            img = cv2.resize(img,(self.IMG_SIZE,self.IMG_SIZE))\n",
        "            self.training_data.append([np.array(img),np.eye(2)[self.LABELS[label]]])\n",
        "\n",
        "            if label == self.CATS:\n",
        "              self.cat_count += 1\n",
        "            elif label == self.DOGS:\n",
        "              self.dog_count += 1\n",
        "          except Exception as e:\n",
        "            print (e)\n",
        "      \n",
        "      np.random.shuffle(self.training_data)\n",
        "      np.save(\"training_data.npy\",self.training_data)\n",
        "      print(\"Cats:\",self.cat_count)\n",
        "      print(\"Dogs:\",self.dog_count)\n",
        "\n",
        "if REBUILD_DATA:\n",
        "  dogs_vs_cats = DogsVSCats()\n",
        "  dogs_vs_cats.make_training_data()"
      ],
      "execution_count": 0,
      "outputs": []
    },
    {
      "cell_type": "code",
      "metadata": {
        "id": "kLA_jsn3a1dz",
        "colab_type": "code",
        "colab": {}
      },
      "source": [
        "import torch\n",
        "import torch.nn as nn\n",
        "import torch.nn.functional as F\n",
        "\n",
        "class Net(nn.Module):\n",
        "    def __init__(self):\n",
        "        super().__init__()\n",
        "        self.conv1 = nn.Conv2d(1,32,5)\n",
        "        self.conv2 = nn.Conv2d(32,64,5)\n",
        "        self.conv3 = nn.Conv2d(64,128,5)\n",
        "\n",
        "        x = torch.randn(50,50).view(-1,1,50,50)\n",
        "        self._to_linear = None\n",
        "        self.convs(x)\n",
        "\n",
        "        self.fc1 = nn.Linear(self._to_linear ,512)\n",
        "        self.fc2 = nn.Linear(512,2)\n",
        "\n",
        "    def convs(self,x):\n",
        "        x = F.max_pool2d(F.relu(self.conv1(x)),(2,2))\n",
        "        x = F.max_pool2d(F.relu(self.conv2(x)),(2,2))\n",
        "        x = F.max_pool2d(F.relu(self.conv3(x)),(2,2))\n",
        "\n",
        "        print(x[0].shape)\n",
        "        if self._to_linear is None:\n",
        "            self._to_linear=x[0].shape[0]*x[0].shape[1]*x[0].shape[2]\n",
        "        return x\n",
        "\n",
        "    def forward(self,x):\n",
        "        x = self.convs(x)\n",
        "        x = x.view(-1,self._to_linear)\n",
        "        x = F.relu(self.fc1(x))\n",
        "        x = self.fc2(x)\n",
        "        return F.softmax(x,dim = 1)\n",
        "\n",
        "net=Net()"
      ],
      "execution_count": 0,
      "outputs": []
    },
    {
      "cell_type": "code",
      "metadata": {
        "id": "ndozOoFC7GSG",
        "colab_type": "code",
        "colab": {}
      },
      "source": [
        "import torch.optim as optim\n",
        "\n",
        "optimizer = optim.Adam(net.parameters(),lr=0.001)\n",
        "loss_function = nn.MSELoss()\n",
        "\n",
        "X = torch.Tensor([i[0] for i in training_data]).view(-1,50,50)\n",
        "X = X/255.0\n",
        "y = torch.Tensor([i[0] for i in training_data])\n",
        "\n",
        "VAL_PCT = 0.1\n",
        "val_size = int(len(X)*VAL_PCT)\n",
        "print(val_size)"
      ],
      "execution_count": 0,
      "outputs": []
    },
    {
      "cell_type": "code",
      "metadata": {
        "id": "Xz58kAkVhrOi",
        "colab_type": "code",
        "colab": {}
      },
      "source": [
        "train_X = X[:-val_size]\n",
        "train_y = y[:-val_size]\n",
        "\n",
        "test_X = X[-val_size:]\n",
        "test_y = y[-val_size:]\n",
        "\n",
        "print(len(train_X))\n",
        "print(len(test_X))"
      ],
      "execution_count": 0,
      "outputs": []
    },
    {
      "cell_type": "code",
      "metadata": {
        "id": "6-bM9V0kiHue",
        "colab_type": "code",
        "colab": {}
      },
      "source": [
        "BATCH_SIZE = 100\n",
        "EPOCHS = 1\n",
        "\n",
        "for epoch in range(EPOCHS):\n",
        "  for i in dqdm(range(0,len(train_X),BATCH_SIZE)):\n",
        "    #print(i,i+BACH_SIZE)\n",
        "    batch_X = train_X[i:i+BATCH_SIZE].view(-1,1,50,50)\n",
        "    batch_y = train_y[i:i+BATCH_SIZE]\n",
        "\n",
        "    net.zero_grad()\n",
        "    outputs=net(batch_X)\n",
        "    loss = loss_function(output,batch_y)\n",
        "    loss.backward()\n",
        "    optimizer.step()\n",
        "\n",
        "print(loss)"
      ],
      "execution_count": 0,
      "outputs": []
    },
    {
      "cell_type": "code",
      "metadata": {
        "id": "Se_NXBOcj-T6",
        "colab_type": "code",
        "colab": {}
      },
      "source": [
        "correct = 0\n",
        "totla = 0\n",
        "with torch.no_grad():\n",
        "  for i in tqdm(range(len(test_X))):\n",
        "    real_class = torch.argmax(test_y[i])\n",
        "    net_out=net(test_X[i].view(-1,1,50,50))[0]\n",
        "    predicted_class = torch.argmax(net_out)\n",
        "    if predicted_class == real_class:\n",
        "      correct += 1\n",
        "    totla += 1\n",
        "print(\"Accuracy:\",cound(correct/total,3))\n"
      ],
      "execution_count": 0,
      "outputs": []
    }
  ]
}